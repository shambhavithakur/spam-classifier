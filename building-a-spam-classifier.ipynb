{
 "cells": [
  {
   "cell_type": "markdown",
   "metadata": {
    "papermill": {
     "duration": 0.019912,
     "end_time": "2020-10-23T19:23:35.991913",
     "exception": false,
     "start_time": "2020-10-23T19:23:35.972001",
     "status": "completed"
    },
    "tags": []
   },
   "source": [
    "# Building a Spam Classifier\n",
    "\n",
    "In this project, we will train a naive-bayes model to classify text snippets as spam or ham. Once we have trained the model, I will deploy it online using a Flask-based web app."
   ]
  },
  {
   "cell_type": "code",
   "execution_count": 1,
   "metadata": {
    "_cell_guid": "b1076dfc-b9ad-4769-8c92-a6c4dae69d19",
    "_uuid": "8f2839f25d086af736a60e9eeb907d3b93b6e0e5",
    "execution": {
     "iopub.execute_input": "2020-10-23T19:23:36.035175Z",
     "iopub.status.busy": "2020-10-23T19:23:36.034333Z",
     "iopub.status.idle": "2020-10-23T19:23:36.071435Z",
     "shell.execute_reply": "2020-10-23T19:23:36.070717Z"
    },
    "papermill": {
     "duration": 0.061212,
     "end_time": "2020-10-23T19:23:36.071564",
     "exception": false,
     "start_time": "2020-10-23T19:23:36.010352",
     "status": "completed"
    },
    "tags": []
   },
   "outputs": [],
   "source": [
    "# Loading data\n",
    "\n",
    "import pandas as pd\n",
    "\n",
    "df = pd.read_csv('../input/sms-spam-collection-dataset/spam.csv', encoding = \"ISO-8859-1\")"
   ]
  },
  {
   "cell_type": "code",
   "execution_count": 2,
   "metadata": {
    "_cell_guid": "79c7e3d0-c299-4dcb-8224-4455121ee9b0",
    "_uuid": "d629ff2d2480ee46fbb7e2d37f6b5fab8052498a",
    "execution": {
     "iopub.execute_input": "2020-10-23T19:23:36.128421Z",
     "iopub.status.busy": "2020-10-23T19:23:36.124859Z",
     "iopub.status.idle": "2020-10-23T19:23:36.133351Z",
     "shell.execute_reply": "2020-10-23T19:23:36.132538Z"
    },
    "papermill": {
     "duration": 0.041157,
     "end_time": "2020-10-23T19:23:36.133479",
     "exception": false,
     "start_time": "2020-10-23T19:23:36.092322",
     "status": "completed"
    },
    "tags": []
   },
   "outputs": [
    {
     "data": {
      "text/plain": [
       "16648"
      ]
     },
     "execution_count": 2,
     "metadata": {},
     "output_type": "execute_result"
    }
   ],
   "source": [
    "df.isnull().sum().sum()"
   ]
  },
  {
   "cell_type": "code",
   "execution_count": 3,
   "metadata": {
    "execution": {
     "iopub.execute_input": "2020-10-23T19:23:36.195494Z",
     "iopub.status.busy": "2020-10-23T19:23:36.183858Z",
     "iopub.status.idle": "2020-10-23T19:23:36.199605Z",
     "shell.execute_reply": "2020-10-23T19:23:36.200412Z"
    },
    "papermill": {
     "duration": 0.047488,
     "end_time": "2020-10-23T19:23:36.200635",
     "exception": false,
     "start_time": "2020-10-23T19:23:36.153147",
     "status": "completed"
    },
    "tags": []
   },
   "outputs": [
    {
     "name": "stdout",
     "output_type": "stream",
     "text": [
      "<class 'pandas.core.frame.DataFrame'>\n",
      "RangeIndex: 5572 entries, 0 to 5571\n",
      "Data columns (total 5 columns):\n",
      " #   Column      Non-Null Count  Dtype \n",
      "---  ------      --------------  ----- \n",
      " 0   v1          5572 non-null   object\n",
      " 1   v2          5572 non-null   object\n",
      " 2   Unnamed: 2  50 non-null     object\n",
      " 3   Unnamed: 3  12 non-null     object\n",
      " 4   Unnamed: 4  6 non-null      object\n",
      "dtypes: object(5)\n",
      "memory usage: 217.8+ KB\n"
     ]
    }
   ],
   "source": [
    "df.info()"
   ]
  },
  {
   "cell_type": "code",
   "execution_count": 4,
   "metadata": {
    "execution": {
     "iopub.execute_input": "2020-10-23T19:23:36.250341Z",
     "iopub.status.busy": "2020-10-23T19:23:36.249453Z",
     "iopub.status.idle": "2020-10-23T19:23:36.286539Z",
     "shell.execute_reply": "2020-10-23T19:23:36.285847Z"
    },
    "papermill": {
     "duration": 0.065347,
     "end_time": "2020-10-23T19:23:36.286697",
     "exception": false,
     "start_time": "2020-10-23T19:23:36.221350",
     "status": "completed"
    },
    "tags": []
   },
   "outputs": [
    {
     "data": {
      "text/html": [
       "<div>\n",
       "<style scoped>\n",
       "    .dataframe tbody tr th:only-of-type {\n",
       "        vertical-align: middle;\n",
       "    }\n",
       "\n",
       "    .dataframe tbody tr th {\n",
       "        vertical-align: top;\n",
       "    }\n",
       "\n",
       "    .dataframe thead th {\n",
       "        text-align: right;\n",
       "    }\n",
       "</style>\n",
       "<table border=\"1\" class=\"dataframe\">\n",
       "  <thead>\n",
       "    <tr style=\"text-align: right;\">\n",
       "      <th></th>\n",
       "      <th>v1</th>\n",
       "      <th>v2</th>\n",
       "      <th>Unnamed: 2</th>\n",
       "      <th>Unnamed: 3</th>\n",
       "      <th>Unnamed: 4</th>\n",
       "    </tr>\n",
       "  </thead>\n",
       "  <tbody>\n",
       "    <tr>\n",
       "      <th>281</th>\n",
       "      <td>ham</td>\n",
       "      <td>\\Wen u miss someone</td>\n",
       "      <td>the person is definitely special for u..... B...</td>\n",
       "      <td>why to miss them</td>\n",
       "      <td>just Keep-in-touch\\\" gdeve..\"</td>\n",
       "    </tr>\n",
       "    <tr>\n",
       "      <th>1038</th>\n",
       "      <td>ham</td>\n",
       "      <td>Edison has rightly said, \\A fool can ask more ...</td>\n",
       "      <td>GN</td>\n",
       "      <td>GE</td>\n",
       "      <td>GNT:-)\"</td>\n",
       "    </tr>\n",
       "    <tr>\n",
       "      <th>2255</th>\n",
       "      <td>ham</td>\n",
       "      <td>I just lov this line: \\Hurt me with the truth</td>\n",
       "      <td>I don't mind</td>\n",
       "      <td>i wil tolerat.bcs ur my someone..... But</td>\n",
       "      <td>Never comfort me with a lie\\\" gud ni8 and swe...</td>\n",
       "    </tr>\n",
       "    <tr>\n",
       "      <th>3525</th>\n",
       "      <td>ham</td>\n",
       "      <td>\\HEY BABE! FAR 2 SPUN-OUT 2 SPK AT DA MO... DE...</td>\n",
       "      <td>HAD A COOL NYTHO</td>\n",
       "      <td>TX 4 FONIN HON</td>\n",
       "      <td>CALL 2MWEN IM BK FRMCLOUD 9! J X\\\"\"</td>\n",
       "    </tr>\n",
       "    <tr>\n",
       "      <th>4668</th>\n",
       "      <td>ham</td>\n",
       "      <td>When I was born, GOD said, \\Oh No! Another IDI...</td>\n",
       "      <td>GOD said</td>\n",
       "      <td>\\\"OH No! COMPETITION\\\". Who knew</td>\n",
       "      <td>one day these two will become FREINDS FOREVER!\"</td>\n",
       "    </tr>\n",
       "  </tbody>\n",
       "</table>\n",
       "</div>"
      ],
      "text/plain": [
       "       v1                                                 v2  \\\n",
       "281   ham                                \\Wen u miss someone   \n",
       "1038  ham  Edison has rightly said, \\A fool can ask more ...   \n",
       "2255  ham      I just lov this line: \\Hurt me with the truth   \n",
       "3525  ham  \\HEY BABE! FAR 2 SPUN-OUT 2 SPK AT DA MO... DE...   \n",
       "4668  ham  When I was born, GOD said, \\Oh No! Another IDI...   \n",
       "\n",
       "                                             Unnamed: 2  \\\n",
       "281    the person is definitely special for u..... B...   \n",
       "1038                                                 GN   \n",
       "2255                                       I don't mind   \n",
       "3525                                   HAD A COOL NYTHO   \n",
       "4668                                           GOD said   \n",
       "\n",
       "                                    Unnamed: 3  \\\n",
       "281                           why to miss them   \n",
       "1038                                        GE   \n",
       "2255  i wil tolerat.bcs ur my someone..... But   \n",
       "3525                            TX 4 FONIN HON   \n",
       "4668          \\\"OH No! COMPETITION\\\". Who knew   \n",
       "\n",
       "                                             Unnamed: 4  \n",
       "281                       just Keep-in-touch\\\" gdeve..\"  \n",
       "1038                                            GNT:-)\"  \n",
       "2255   Never comfort me with a lie\\\" gud ni8 and swe...  \n",
       "3525                CALL 2MWEN IM BK FRMCLOUD 9! J X\\\"\"  \n",
       "4668    one day these two will become FREINDS FOREVER!\"  "
      ]
     },
     "execution_count": 4,
     "metadata": {},
     "output_type": "execute_result"
    }
   ],
   "source": [
    "df.dropna().head()"
   ]
  },
  {
   "cell_type": "markdown",
   "metadata": {
    "papermill": {
     "duration": 0.020254,
     "end_time": "2020-10-23T19:23:36.327706",
     "exception": false,
     "start_time": "2020-10-23T19:23:36.307452",
     "status": "completed"
    },
    "tags": []
   },
   "source": [
    "We will use only the columns named v1 and v2 to train the proposed model. Let us delete the other columns."
   ]
  },
  {
   "cell_type": "code",
   "execution_count": 5,
   "metadata": {
    "execution": {
     "iopub.execute_input": "2020-10-23T19:23:36.377501Z",
     "iopub.status.busy": "2020-10-23T19:23:36.375466Z",
     "iopub.status.idle": "2020-10-23T19:23:36.381068Z",
     "shell.execute_reply": "2020-10-23T19:23:36.380313Z"
    },
    "papermill": {
     "duration": 0.032877,
     "end_time": "2020-10-23T19:23:36.381189",
     "exception": false,
     "start_time": "2020-10-23T19:23:36.348312",
     "status": "completed"
    },
    "tags": []
   },
   "outputs": [],
   "source": [
    "df.drop([col for col in df.columns if col not in ['v1', 'v2']], axis=1, inplace=True)"
   ]
  },
  {
   "cell_type": "markdown",
   "metadata": {
    "papermill": {
     "duration": 0.020343,
     "end_time": "2020-10-23T19:23:36.422240",
     "exception": false,
     "start_time": "2020-10-23T19:23:36.401897",
     "status": "completed"
    },
    "tags": []
   },
   "source": [
    "Let us give the v1 and v2 columns easy-to-understand names."
   ]
  },
  {
   "cell_type": "code",
   "execution_count": 6,
   "metadata": {
    "execution": {
     "iopub.execute_input": "2020-10-23T19:23:36.469883Z",
     "iopub.status.busy": "2020-10-23T19:23:36.468818Z",
     "iopub.status.idle": "2020-10-23T19:23:36.472310Z",
     "shell.execute_reply": "2020-10-23T19:23:36.471680Z"
    },
    "papermill": {
     "duration": 0.029571,
     "end_time": "2020-10-23T19:23:36.472437",
     "exception": false,
     "start_time": "2020-10-23T19:23:36.442866",
     "status": "completed"
    },
    "tags": []
   },
   "outputs": [],
   "source": [
    "df.columns = ['label', 'message']"
   ]
  },
  {
   "cell_type": "markdown",
   "metadata": {
    "papermill": {
     "duration": 0.02044,
     "end_time": "2020-10-23T19:23:36.513733",
     "exception": false,
     "start_time": "2020-10-23T19:23:36.493293",
     "status": "completed"
    },
    "tags": []
   },
   "source": [
    "Next, let us encode the labels in the label column."
   ]
  },
  {
   "cell_type": "code",
   "execution_count": 7,
   "metadata": {
    "execution": {
     "iopub.execute_input": "2020-10-23T19:23:36.563778Z",
     "iopub.status.busy": "2020-10-23T19:23:36.562920Z",
     "iopub.status.idle": "2020-10-23T19:23:36.566646Z",
     "shell.execute_reply": "2020-10-23T19:23:36.566045Z"
    },
    "papermill": {
     "duration": 0.032248,
     "end_time": "2020-10-23T19:23:36.566778",
     "exception": false,
     "start_time": "2020-10-23T19:23:36.534530",
     "status": "completed"
    },
    "tags": []
   },
   "outputs": [],
   "source": [
    "df.label = df.label.map({'ham': 0, 'spam': 1})"
   ]
  },
  {
   "cell_type": "code",
   "execution_count": 8,
   "metadata": {
    "execution": {
     "iopub.execute_input": "2020-10-23T19:23:36.618835Z",
     "iopub.status.busy": "2020-10-23T19:23:36.617945Z",
     "iopub.status.idle": "2020-10-23T19:23:36.622539Z",
     "shell.execute_reply": "2020-10-23T19:23:36.621814Z"
    },
    "papermill": {
     "duration": 0.034876,
     "end_time": "2020-10-23T19:23:36.622678",
     "exception": false,
     "start_time": "2020-10-23T19:23:36.587802",
     "status": "completed"
    },
    "tags": []
   },
   "outputs": [
    {
     "data": {
      "text/html": [
       "<div>\n",
       "<style scoped>\n",
       "    .dataframe tbody tr th:only-of-type {\n",
       "        vertical-align: middle;\n",
       "    }\n",
       "\n",
       "    .dataframe tbody tr th {\n",
       "        vertical-align: top;\n",
       "    }\n",
       "\n",
       "    .dataframe thead th {\n",
       "        text-align: right;\n",
       "    }\n",
       "</style>\n",
       "<table border=\"1\" class=\"dataframe\">\n",
       "  <thead>\n",
       "    <tr style=\"text-align: right;\">\n",
       "      <th></th>\n",
       "      <th>label</th>\n",
       "      <th>message</th>\n",
       "    </tr>\n",
       "  </thead>\n",
       "  <tbody>\n",
       "    <tr>\n",
       "      <th>0</th>\n",
       "      <td>0</td>\n",
       "      <td>Go until jurong point, crazy.. Available only ...</td>\n",
       "    </tr>\n",
       "    <tr>\n",
       "      <th>1</th>\n",
       "      <td>0</td>\n",
       "      <td>Ok lar... Joking wif u oni...</td>\n",
       "    </tr>\n",
       "    <tr>\n",
       "      <th>2</th>\n",
       "      <td>1</td>\n",
       "      <td>Free entry in 2 a wkly comp to win FA Cup fina...</td>\n",
       "    </tr>\n",
       "    <tr>\n",
       "      <th>3</th>\n",
       "      <td>0</td>\n",
       "      <td>U dun say so early hor... U c already then say...</td>\n",
       "    </tr>\n",
       "    <tr>\n",
       "      <th>4</th>\n",
       "      <td>0</td>\n",
       "      <td>Nah I don't think he goes to usf, he lives aro...</td>\n",
       "    </tr>\n",
       "  </tbody>\n",
       "</table>\n",
       "</div>"
      ],
      "text/plain": [
       "   label                                            message\n",
       "0      0  Go until jurong point, crazy.. Available only ...\n",
       "1      0                      Ok lar... Joking wif u oni...\n",
       "2      1  Free entry in 2 a wkly comp to win FA Cup fina...\n",
       "3      0  U dun say so early hor... U c already then say...\n",
       "4      0  Nah I don't think he goes to usf, he lives aro..."
      ]
     },
     "execution_count": 8,
     "metadata": {},
     "output_type": "execute_result"
    }
   ],
   "source": [
    "df.head()"
   ]
  },
  {
   "cell_type": "code",
   "execution_count": 9,
   "metadata": {
    "execution": {
     "iopub.execute_input": "2020-10-23T19:23:36.674730Z",
     "iopub.status.busy": "2020-10-23T19:23:36.673847Z",
     "iopub.status.idle": "2020-10-23T19:23:36.678733Z",
     "shell.execute_reply": "2020-10-23T19:23:36.677993Z"
    },
    "papermill": {
     "duration": 0.034336,
     "end_time": "2020-10-23T19:23:36.678856",
     "exception": false,
     "start_time": "2020-10-23T19:23:36.644520",
     "status": "completed"
    },
    "tags": []
   },
   "outputs": [
    {
     "data": {
      "text/plain": [
       "0    4825\n",
       "1     747\n",
       "Name: label, dtype: int64"
      ]
     },
     "execution_count": 9,
     "metadata": {},
     "output_type": "execute_result"
    }
   ],
   "source": [
    "df.label.value_counts()"
   ]
  },
  {
   "cell_type": "code",
   "execution_count": 10,
   "metadata": {
    "execution": {
     "iopub.execute_input": "2020-10-23T19:23:36.735146Z",
     "iopub.status.busy": "2020-10-23T19:23:36.729232Z",
     "iopub.status.idle": "2020-10-23T19:23:36.740060Z",
     "shell.execute_reply": "2020-10-23T19:23:36.739326Z"
    },
    "papermill": {
     "duration": 0.039104,
     "end_time": "2020-10-23T19:23:36.740185",
     "exception": false,
     "start_time": "2020-10-23T19:23:36.701081",
     "status": "completed"
    },
    "tags": []
   },
   "outputs": [
    {
     "data": {
      "text/html": [
       "<div>\n",
       "<style scoped>\n",
       "    .dataframe tbody tr th:only-of-type {\n",
       "        vertical-align: middle;\n",
       "    }\n",
       "\n",
       "    .dataframe tbody tr th {\n",
       "        vertical-align: top;\n",
       "    }\n",
       "\n",
       "    .dataframe thead th {\n",
       "        text-align: right;\n",
       "    }\n",
       "</style>\n",
       "<table border=\"1\" class=\"dataframe\">\n",
       "  <thead>\n",
       "    <tr style=\"text-align: right;\">\n",
       "      <th></th>\n",
       "      <th>label</th>\n",
       "      <th>message</th>\n",
       "    </tr>\n",
       "  </thead>\n",
       "  <tbody>\n",
       "    <tr>\n",
       "      <th>2</th>\n",
       "      <td>1</td>\n",
       "      <td>Free entry in 2 a wkly comp to win FA Cup fina...</td>\n",
       "    </tr>\n",
       "    <tr>\n",
       "      <th>5</th>\n",
       "      <td>1</td>\n",
       "      <td>FreeMsg Hey there darling it's been 3 week's n...</td>\n",
       "    </tr>\n",
       "    <tr>\n",
       "      <th>8</th>\n",
       "      <td>1</td>\n",
       "      <td>WINNER!! As a valued network customer you have...</td>\n",
       "    </tr>\n",
       "    <tr>\n",
       "      <th>9</th>\n",
       "      <td>1</td>\n",
       "      <td>Had your mobile 11 months or more? U R entitle...</td>\n",
       "    </tr>\n",
       "    <tr>\n",
       "      <th>11</th>\n",
       "      <td>1</td>\n",
       "      <td>SIX chances to win CASH! From 100 to 20,000 po...</td>\n",
       "    </tr>\n",
       "  </tbody>\n",
       "</table>\n",
       "</div>"
      ],
      "text/plain": [
       "    label                                            message\n",
       "2       1  Free entry in 2 a wkly comp to win FA Cup fina...\n",
       "5       1  FreeMsg Hey there darling it's been 3 week's n...\n",
       "8       1  WINNER!! As a valued network customer you have...\n",
       "9       1  Had your mobile 11 months or more? U R entitle...\n",
       "11      1  SIX chances to win CASH! From 100 to 20,000 po..."
      ]
     },
     "execution_count": 10,
     "metadata": {},
     "output_type": "execute_result"
    }
   ],
   "source": [
    "df[df.label==1].head()"
   ]
  },
  {
   "cell_type": "markdown",
   "metadata": {
    "papermill": {
     "duration": 0.022678,
     "end_time": "2020-10-23T19:23:36.786093",
     "exception": false,
     "start_time": "2020-10-23T19:23:36.763415",
     "status": "completed"
    },
    "tags": []
   },
   "source": [
    "The ratio of ham and spam messages in the dataset is ~6.5:1. Let us train a naive-bayes model on these messages."
   ]
  },
  {
   "cell_type": "code",
   "execution_count": 11,
   "metadata": {
    "execution": {
     "iopub.execute_input": "2020-10-23T19:23:36.838667Z",
     "iopub.status.busy": "2020-10-23T19:23:36.837875Z",
     "iopub.status.idle": "2020-10-23T19:23:37.962104Z",
     "shell.execute_reply": "2020-10-23T19:23:37.961261Z"
    },
    "papermill": {
     "duration": 1.153163,
     "end_time": "2020-10-23T19:23:37.962233",
     "exception": false,
     "start_time": "2020-10-23T19:23:36.809070",
     "status": "completed"
    },
    "tags": []
   },
   "outputs": [],
   "source": [
    "# Importing relevant modules\n",
    "\n",
    "from sklearn.naive_bayes import MultinomialNB\n",
    "from sklearn.metrics import classification_report\n",
    "from sklearn.model_selection import train_test_split\n",
    "from sklearn.feature_extraction.text import CountVectorizer"
   ]
  },
  {
   "cell_type": "code",
   "execution_count": 12,
   "metadata": {
    "execution": {
     "iopub.execute_input": "2020-10-23T19:23:38.017082Z",
     "iopub.status.busy": "2020-10-23T19:23:38.015955Z",
     "iopub.status.idle": "2020-10-23T19:23:38.019674Z",
     "shell.execute_reply": "2020-10-23T19:23:38.019041Z"
    },
    "papermill": {
     "duration": 0.033275,
     "end_time": "2020-10-23T19:23:38.019809",
     "exception": false,
     "start_time": "2020-10-23T19:23:37.986534",
     "status": "completed"
    },
    "tags": []
   },
   "outputs": [],
   "source": [
    "# Separating independent and dependent variables\n",
    "\n",
    "X = df.message\n",
    "y = df.label"
   ]
  },
  {
   "cell_type": "code",
   "execution_count": 13,
   "metadata": {
    "execution": {
     "iopub.execute_input": "2020-10-23T19:23:38.091783Z",
     "iopub.status.busy": "2020-10-23T19:23:38.081332Z",
     "iopub.status.idle": "2020-10-23T19:23:38.401701Z",
     "shell.execute_reply": "2020-10-23T19:23:38.400988Z"
    },
    "papermill": {
     "duration": 0.358339,
     "end_time": "2020-10-23T19:23:38.401851",
     "exception": false,
     "start_time": "2020-10-23T19:23:38.043512",
     "status": "completed"
    },
    "tags": []
   },
   "outputs": [],
   "source": [
    "# Converting the messages into a matrix of token counts\n",
    "\n",
    "transformer = CountVectorizer().fit(X)\n",
    "\n",
    "X_dtm = transformer.transform(X)"
   ]
  },
  {
   "cell_type": "code",
   "execution_count": 14,
   "metadata": {
    "execution": {
     "iopub.execute_input": "2020-10-23T19:23:38.459756Z",
     "iopub.status.busy": "2020-10-23T19:23:38.458986Z",
     "iopub.status.idle": "2020-10-23T19:23:38.464966Z",
     "shell.execute_reply": "2020-10-23T19:23:38.464123Z"
    },
    "papermill": {
     "duration": 0.037226,
     "end_time": "2020-10-23T19:23:38.465103",
     "exception": false,
     "start_time": "2020-10-23T19:23:38.427877",
     "status": "completed"
    },
    "tags": []
   },
   "outputs": [],
   "source": [
    "# Creating training and validation subsets\n",
    "\n",
    "X_train, X_test, y_train, y_test = train_test_split(X_dtm, y, test_size=0.33, random_state=42)"
   ]
  },
  {
   "cell_type": "code",
   "execution_count": 15,
   "metadata": {
    "execution": {
     "iopub.execute_input": "2020-10-23T19:23:38.519987Z",
     "iopub.status.busy": "2020-10-23T19:23:38.518906Z",
     "iopub.status.idle": "2020-10-23T19:23:38.522401Z",
     "shell.execute_reply": "2020-10-23T19:23:38.522993Z"
    },
    "papermill": {
     "duration": 0.03421,
     "end_time": "2020-10-23T19:23:38.523147",
     "exception": false,
     "start_time": "2020-10-23T19:23:38.488937",
     "status": "completed"
    },
    "tags": []
   },
   "outputs": [
    {
     "data": {
      "text/plain": [
       "((3733, 8672), (1839, 8672), (3733,), (1839,))"
      ]
     },
     "execution_count": 15,
     "metadata": {},
     "output_type": "execute_result"
    }
   ],
   "source": [
    "X_train.shape, X_test.shape, y_train.shape, y_test.shape"
   ]
  },
  {
   "cell_type": "code",
   "execution_count": 16,
   "metadata": {
    "execution": {
     "iopub.execute_input": "2020-10-23T19:23:38.579520Z",
     "iopub.status.busy": "2020-10-23T19:23:38.578351Z",
     "iopub.status.idle": "2020-10-23T19:23:38.588875Z",
     "shell.execute_reply": "2020-10-23T19:23:38.589501Z"
    },
    "papermill": {
     "duration": 0.04208,
     "end_time": "2020-10-23T19:23:38.589694",
     "exception": false,
     "start_time": "2020-10-23T19:23:38.547614",
     "status": "completed"
    },
    "tags": []
   },
   "outputs": [],
   "source": [
    "# Training and evaluating naive-bayes classifier\n",
    "\n",
    "nb = MultinomialNB()\n",
    "\n",
    "nb.fit(X_train, y_train)\n",
    "nb.score(X_test, y_test)\n",
    "\n",
    "y_pred = nb.predict(X_test)"
   ]
  },
  {
   "cell_type": "code",
   "execution_count": 17,
   "metadata": {
    "execution": {
     "iopub.execute_input": "2020-10-23T19:23:38.646623Z",
     "iopub.status.busy": "2020-10-23T19:23:38.645430Z",
     "iopub.status.idle": "2020-10-23T19:23:38.657759Z",
     "shell.execute_reply": "2020-10-23T19:23:38.656957Z"
    },
    "papermill": {
     "duration": 0.042964,
     "end_time": "2020-10-23T19:23:38.657895",
     "exception": false,
     "start_time": "2020-10-23T19:23:38.614931",
     "status": "completed"
    },
    "tags": []
   },
   "outputs": [
    {
     "name": "stdout",
     "output_type": "stream",
     "text": [
      "              precision    recall  f1-score   support\n",
      "\n",
      "           0       0.99      0.99      0.99      1587\n",
      "           1       0.93      0.92      0.92       252\n",
      "\n",
      "    accuracy                           0.98      1839\n",
      "   macro avg       0.96      0.95      0.96      1839\n",
      "weighted avg       0.98      0.98      0.98      1839\n",
      "\n"
     ]
    }
   ],
   "source": [
    "# Printing classification report\n",
    "\n",
    "print(classification_report(y_test, y_pred))"
   ]
  },
  {
   "cell_type": "code",
   "execution_count": 18,
   "metadata": {
    "execution": {
     "iopub.execute_input": "2020-10-23T19:23:38.715817Z",
     "iopub.status.busy": "2020-10-23T19:23:38.714766Z",
     "iopub.status.idle": "2020-10-23T19:23:38.722945Z",
     "shell.execute_reply": "2020-10-23T19:23:38.722109Z"
    },
    "papermill": {
     "duration": 0.039312,
     "end_time": "2020-10-23T19:23:38.723076",
     "exception": false,
     "start_time": "2020-10-23T19:23:38.683764",
     "status": "completed"
    },
    "tags": []
   },
   "outputs": [],
   "source": [
    "# Saving the trained model\n",
    "\n",
    "import pickle\n",
    "\n",
    "pickle.dump(transformer, open(\"tfr.pkl\", \"wb\"))\n",
    "pickle.dump(nb, open(\"model.pkl\", \"wb\"))"
   ]
  },
  {
   "cell_type": "markdown",
   "metadata": {
    "papermill": {
     "duration": 0.025151,
     "end_time": "2020-10-23T19:23:38.774041",
     "exception": false,
     "start_time": "2020-10-23T19:23:38.748890",
     "status": "completed"
    },
    "tags": []
   },
   "source": [
    "I used the pickled files with Flask to build a spam-classifier app. You can browse through the app on [Heroku](https://isitspam.herokuapp.com/)."
   ]
  },
  {
   "cell_type": "markdown",
   "metadata": {
    "papermill": {
     "duration": 0.025065,
     "end_time": "2020-10-23T19:23:38.824477",
     "exception": false,
     "start_time": "2020-10-23T19:23:38.799412",
     "status": "completed"
    },
    "tags": []
   },
   "source": [
    "## Reference\n",
    "\n",
    "https://towardsdatascience.com/develop-a-nlp-model-in-python-deploy-it-with-flask-step-by-step-744f3bdd7776"
   ]
  }
 ],
 "metadata": {
  "kernelspec": {
   "display_name": "Python 3",
   "language": "python",
   "name": "python3"
  },
  "language_info": {
   "codemirror_mode": {
    "name": "ipython",
    "version": 3
   },
   "file_extension": ".py",
   "mimetype": "text/x-python",
   "name": "python",
   "nbconvert_exporter": "python",
   "pygments_lexer": "ipython3",
   "version": "3.7.6"
  },
  "papermill": {
   "duration": 8.932468,
   "end_time": "2020-10-23T19:23:39.947114",
   "environment_variables": {},
   "exception": null,
   "input_path": "__notebook__.ipynb",
   "output_path": "__notebook__.ipynb",
   "parameters": {},
   "start_time": "2020-10-23T19:23:31.014646",
   "version": "2.1.0"
  }
 },
 "nbformat": 4,
 "nbformat_minor": 4
}
